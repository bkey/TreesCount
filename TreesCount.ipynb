{
 "cells": [
  {
   "cell_type": "code",
   "execution_count": 43,
   "metadata": {
    "collapsed": true
   },
   "outputs": [],
   "source": [
    "%matplotlib inline\n",
    "\n",
    "import matplotlib\n",
    "import numpy as np\n",
    "import matplotlib.pyplot as plt\n",
    "\n",
    "import seaborn as sns"
   ]
  },
  {
   "cell_type": "markdown",
   "metadata": {},
   "source": [
    "Data from NYC Open Data Portal : https://data.cityofnewyork.us/Environment/2015-Street-Tree-Census-Tree-Data/uvpi-gqnh"
   ]
  },
  {
   "cell_type": "code",
   "execution_count": 97,
   "metadata": {
    "collapsed": false
   },
   "outputs": [],
   "source": [
    "all_trees = pd.read_csv('2015_Street_Tree_Census_-_Tree_Data.csv')"
   ]
  },
  {
   "cell_type": "code",
   "execution_count": 98,
   "metadata": {
    "collapsed": false
   },
   "outputs": [
    {
     "name": "stdout",
     "output_type": "stream",
     "text": [
      "<class 'pandas.core.frame.DataFrame'>\n",
      "Int64Index: 468341 entries, 0 to 468340\n",
      "Data columns (total 41 columns):\n",
      "FID           468341 non-null int64\n",
      "tree_id       468341 non-null int64\n",
      "block_id      468341 non-null int64\n",
      "created_at    468341 non-null object\n",
      "tree_dbh      468341 non-null int64\n",
      "stump_diam    468341 non-null int64\n",
      "curb_loc      468341 non-null object\n",
      "status        468341 non-null object\n",
      "health        468341 non-null object\n",
      "spc_latin     468341 non-null object\n",
      "spc_common    468341 non-null object\n",
      "steward       468341 non-null object\n",
      "guards        468341 non-null object\n",
      "sidewalk      468341 non-null object\n",
      "user_type     468341 non-null object\n",
      "root_stone    468341 non-null object\n",
      "root_grate    468341 non-null object\n",
      "root_other    468341 non-null object\n",
      "trunk_wire    468341 non-null object\n",
      "trnk_light    468341 non-null object\n",
      "trnk_other    468341 non-null object\n",
      "brch_light    468341 non-null object\n",
      "brch_shoe     468341 non-null object\n",
      "brch_other    468341 non-null object\n",
      "address       468341 non-null object\n",
      "zipcode       468341 non-null int64\n",
      "zip_city      468341 non-null object\n",
      "cb_num        468341 non-null int64\n",
      "borocode      468341 non-null int64\n",
      "boroname      468341 non-null object\n",
      "cncldist      468341 non-null int64\n",
      "st_assem      468341 non-null int64\n",
      "st_senate     468341 non-null int64\n",
      "nta           468341 non-null object\n",
      "nta_name      468341 non-null object\n",
      "boro_ct       468341 non-null int64\n",
      "state         468341 non-null object\n",
      "latitude      468341 non-null float64\n",
      "longitude     468341 non-null float64\n",
      "x_sp          468341 non-null float64\n",
      "y_sp          468341 non-null float64\n",
      "dtypes: float64(4), int64(12), object(25)"
     ]
    }
   ],
   "source": [
    "all_trees.info()"
   ]
  },
  {
   "cell_type": "code",
   "execution_count": 53,
   "metadata": {
    "collapsed": false
   },
   "outputs": [
    {
     "data": {
      "text/html": [
       "<div style=\"max-height:1000px;max-width:1500px;overflow:auto;\">\n",
       "<table border=\"1\" class=\"dataframe\">\n",
       "  <thead>\n",
       "    <tr style=\"text-align: right;\">\n",
       "      <th></th>\n",
       "      <th>FID</th>\n",
       "      <th>tree_id</th>\n",
       "      <th>block_id</th>\n",
       "      <th>created_at</th>\n",
       "      <th>tree_dbh</th>\n",
       "      <th>stump_diam</th>\n",
       "      <th>curb_loc</th>\n",
       "      <th>status</th>\n",
       "      <th>health</th>\n",
       "      <th>spc_latin</th>\n",
       "      <th>...</th>\n",
       "      <th>st_assem</th>\n",
       "      <th>st_senate</th>\n",
       "      <th>nta</th>\n",
       "      <th>nta_name</th>\n",
       "      <th>boro_ct</th>\n",
       "      <th>state</th>\n",
       "      <th>latitude</th>\n",
       "      <th>longitude</th>\n",
       "      <th>x_sp</th>\n",
       "      <th>y_sp</th>\n",
       "    </tr>\n",
       "  </thead>\n",
       "  <tbody>\n",
       "    <tr>\n",
       "      <th>0</th>\n",
       "      <td> 0</td>\n",
       "      <td> 101233</td>\n",
       "      <td> 216486</td>\n",
       "      <td> 07/29/2015</td>\n",
       "      <td>  4</td>\n",
       "      <td> 0</td>\n",
       "      <td> OnCurb</td>\n",
       "      <td> Alive</td>\n",
       "      <td> Good</td>\n",
       "      <td>                    Quercus bicolor</td>\n",
       "      <td>...</td>\n",
       "      <td> 50</td>\n",
       "      <td> 18</td>\n",
       "      <td> BK76</td>\n",
       "      <td> Greenpoint</td>\n",
       "      <td> 3056300</td>\n",
       "      <td> New York</td>\n",
       "      <td> 40.735813</td>\n",
       "      <td>-73.958486</td>\n",
       "      <td> 995754.8999</td>\n",
       "      <td> 207355.7530</td>\n",
       "    </tr>\n",
       "    <tr>\n",
       "      <th>1</th>\n",
       "      <td> 1</td>\n",
       "      <td> 101234</td>\n",
       "      <td> 216486</td>\n",
       "      <td> 07/29/2015</td>\n",
       "      <td>  4</td>\n",
       "      <td> 0</td>\n",
       "      <td> OnCurb</td>\n",
       "      <td> Alive</td>\n",
       "      <td> Good</td>\n",
       "      <td>                    Quercus bicolor</td>\n",
       "      <td>...</td>\n",
       "      <td> 50</td>\n",
       "      <td> 18</td>\n",
       "      <td> BK76</td>\n",
       "      <td> Greenpoint</td>\n",
       "      <td> 3056300</td>\n",
       "      <td> New York</td>\n",
       "      <td> 40.735969</td>\n",
       "      <td>-73.958512</td>\n",
       "      <td> 995747.6368</td>\n",
       "      <td> 207412.7922</td>\n",
       "    </tr>\n",
       "    <tr>\n",
       "      <th>2</th>\n",
       "      <td> 2</td>\n",
       "      <td> 101235</td>\n",
       "      <td> 216486</td>\n",
       "      <td> 07/29/2015</td>\n",
       "      <td>  4</td>\n",
       "      <td> 0</td>\n",
       "      <td> OnCurb</td>\n",
       "      <td> Alive</td>\n",
       "      <td> Good</td>\n",
       "      <td>                    Quercus bicolor</td>\n",
       "      <td>...</td>\n",
       "      <td> 50</td>\n",
       "      <td> 18</td>\n",
       "      <td> BK76</td>\n",
       "      <td> Greenpoint</td>\n",
       "      <td> 3056300</td>\n",
       "      <td> New York</td>\n",
       "      <td> 40.736050</td>\n",
       "      <td>-73.958525</td>\n",
       "      <td> 995743.8851</td>\n",
       "      <td> 207442.2541</td>\n",
       "    </tr>\n",
       "    <tr>\n",
       "      <th>3</th>\n",
       "      <td> 3</td>\n",
       "      <td> 101400</td>\n",
       "      <td> 216291</td>\n",
       "      <td> 07/29/2015</td>\n",
       "      <td> 15</td>\n",
       "      <td> 0</td>\n",
       "      <td> OnCurb</td>\n",
       "      <td> Alive</td>\n",
       "      <td> Good</td>\n",
       "      <td> Gleditsia triacanthos var. inermis</td>\n",
       "      <td>...</td>\n",
       "      <td> 50</td>\n",
       "      <td> 18</td>\n",
       "      <td> BK76</td>\n",
       "      <td> Greenpoint</td>\n",
       "      <td> 3056300</td>\n",
       "      <td> New York</td>\n",
       "      <td> 40.735464</td>\n",
       "      <td>-73.958851</td>\n",
       "      <td> 995653.7774</td>\n",
       "      <td> 207228.7683</td>\n",
       "    </tr>\n",
       "    <tr>\n",
       "      <th>4</th>\n",
       "      <td> 4</td>\n",
       "      <td> 101401</td>\n",
       "      <td> 216291</td>\n",
       "      <td> 07/29/2015</td>\n",
       "      <td> 18</td>\n",
       "      <td> 0</td>\n",
       "      <td> OnCurb</td>\n",
       "      <td> Alive</td>\n",
       "      <td> Good</td>\n",
       "      <td> Gleditsia triacanthos var. inermis</td>\n",
       "      <td>...</td>\n",
       "      <td> 50</td>\n",
       "      <td> 18</td>\n",
       "      <td> BK76</td>\n",
       "      <td> Greenpoint</td>\n",
       "      <td> 3056300</td>\n",
       "      <td> New York</td>\n",
       "      <td> 40.735452</td>\n",
       "      <td>-73.958986</td>\n",
       "      <td> 995616.2581</td>\n",
       "      <td> 207224.1693</td>\n",
       "    </tr>\n",
       "  </tbody>\n",
       "</table>\n",
       "<p>5 rows × 41 columns</p>\n",
       "</div>"
      ],
      "text/plain": [
       "   FID  tree_id  block_id  created_at  tree_dbh  stump_diam curb_loc status  \\\n",
       "0    0   101233    216486  07/29/2015         4           0   OnCurb  Alive   \n",
       "1    1   101234    216486  07/29/2015         4           0   OnCurb  Alive   \n",
       "2    2   101235    216486  07/29/2015         4           0   OnCurb  Alive   \n",
       "3    3   101400    216291  07/29/2015        15           0   OnCurb  Alive   \n",
       "4    4   101401    216291  07/29/2015        18           0   OnCurb  Alive   \n",
       "\n",
       "  health                           spc_latin  \\\n",
       "0   Good                     Quercus bicolor   \n",
       "1   Good                     Quercus bicolor   \n",
       "2   Good                     Quercus bicolor   \n",
       "3   Good  Gleditsia triacanthos var. inermis   \n",
       "4   Good  Gleditsia triacanthos var. inermis   \n",
       "\n",
       "                  ...                 st_assem st_senate   nta    nta_name  \\\n",
       "0                 ...                       50        18  BK76  Greenpoint   \n",
       "1                 ...                       50        18  BK76  Greenpoint   \n",
       "2                 ...                       50        18  BK76  Greenpoint   \n",
       "3                 ...                       50        18  BK76  Greenpoint   \n",
       "4                 ...                       50        18  BK76  Greenpoint   \n",
       "\n",
       "   boro_ct     state   latitude  longitude         x_sp         y_sp  \n",
       "0  3056300  New York  40.735813 -73.958486  995754.8999  207355.7530  \n",
       "1  3056300  New York  40.735969 -73.958512  995747.6368  207412.7922  \n",
       "2  3056300  New York  40.736050 -73.958525  995743.8851  207442.2541  \n",
       "3  3056300  New York  40.735464 -73.958851  995653.7774  207228.7683  \n",
       "4  3056300  New York  40.735452 -73.958986  995616.2581  207224.1693  \n",
       "\n",
       "[5 rows x 41 columns]"
      ]
     },
     "execution_count": 53,
     "metadata": {},
     "output_type": "execute_result"
    }
   ],
   "source": [
    "all_trees.head()"
   ]
  },
  {
   "cell_type": "code",
   "execution_count": 72,
   "metadata": {
    "collapsed": false
   },
   "outputs": [],
   "source": [
    "def plot_hist_graph(df, column_name, title):\n",
    "    plt.hist(df[column_name])\n",
    "    plt.title(title)\n",
    "    plt.show()"
   ]
  },
  {
   "cell_type": "code",
   "execution_count": 73,
   "metadata": {
    "collapsed": false
   },
   "outputs": [
    {
     "data": {
      "image/png": "[encoded data removed]",
      "text/plain": [
       "<matplotlib.figure.Figure at 0x107160090>"
      ]
     },
     "metadata": {},
     "output_type": "display_data"
    }
   ],
   "source": [
    "plot_hist_graph(all_trees, 'tree_dbh', 'Trees By Diameter')"
   ]
  },
  {
   "cell_type": "markdown",
   "metadata": {},
   "source": [
    "LOL WAT?! Those are some big trees!"
   ]
  },
  {
   "cell_type": "code",
   "execution_count": 60,
   "metadata": {
    "collapsed": true
   },
   "outputs": [],
   "source": [
    "sorted_by_diameter = df.sort_index(by=['tree_dbh'], ascending=False)"
   ]
  },
  {
   "cell_type": "code",
   "execution_count": 61,
   "metadata": {
    "collapsed": false
   },
   "outputs": [
    {
     "data": {
      "text/html": [
       "<div style=\"max-height:1000px;max-width:1500px;overflow:auto;\">\n",
       "<table border=\"1\" class=\"dataframe\">\n",
       "  <thead>\n",
       "    <tr style=\"text-align: right;\">\n",
       "      <th></th>\n",
       "      <th>FID</th>\n",
       "      <th>tree_id</th>\n",
       "      <th>block_id</th>\n",
       "      <th>created_at</th>\n",
       "      <th>tree_dbh</th>\n",
       "      <th>stump_diam</th>\n",
       "      <th>curb_loc</th>\n",
       "      <th>status</th>\n",
       "      <th>health</th>\n",
       "      <th>spc_latin</th>\n",
       "      <th>...</th>\n",
       "      <th>st_senate</th>\n",
       "      <th>nta</th>\n",
       "      <th>nta_name</th>\n",
       "      <th>boro_ct</th>\n",
       "      <th>state</th>\n",
       "      <th>latitude</th>\n",
       "      <th>longitude</th>\n",
       "      <th>x_sp</th>\n",
       "      <th>y_sp</th>\n",
       "      <th>dist_from_me</th>\n",
       "    </tr>\n",
       "  </thead>\n",
       "  <tbody>\n",
       "    <tr>\n",
       "      <th>360739</th>\n",
       "      <td> 360731</td>\n",
       "      <td> 433258</td>\n",
       "      <td> 507833</td>\n",
       "      <td> 11/05/2015</td>\n",
       "      <td> 450</td>\n",
       "      <td> 0</td>\n",
       "      <td> OffsetFromCurb</td>\n",
       "      <td>  Dead</td>\n",
       "      <td>     </td>\n",
       "      <td>                      </td>\n",
       "      <td>...</td>\n",
       "      <td> 32</td>\n",
       "      <td> BX09</td>\n",
       "      <td> Soundview-Castle Hill-Clason Point-Harding Park</td>\n",
       "      <td> 2001600</td>\n",
       "      <td> New York</td>\n",
       "      <td> 40.821953</td>\n",
       "      <td>-73.857671</td>\n",
       "      <td> 1023642.9150</td>\n",
       "      <td> 238768.6665</td>\n",
       "      <td> 14.466631</td>\n",
       "    </tr>\n",
       "    <tr>\n",
       "      <th>348292</th>\n",
       "      <td> 348289</td>\n",
       "      <td> 418433</td>\n",
       "      <td> 202962</td>\n",
       "      <td> 11/03/2015</td>\n",
       "      <td> 318</td>\n",
       "      <td> 0</td>\n",
       "      <td>         OnCurb</td>\n",
       "      <td> Alive</td>\n",
       "      <td> Good</td>\n",
       "      <td> Platanus x acerifolia</td>\n",
       "      <td>...</td>\n",
       "      <td> 18</td>\n",
       "      <td> BK83</td>\n",
       "      <td>                         Cypress Hills-City Line</td>\n",
       "      <td> 3118202</td>\n",
       "      <td> New York</td>\n",
       "      <td> 40.688366</td>\n",
       "      <td>-73.869641</td>\n",
       "      <td> 1020402.3110</td>\n",
       "      <td> 190093.5752</td>\n",
       "      <td> 11.730691</td>\n",
       "    </tr>\n",
       "    <tr>\n",
       "      <th>398444</th>\n",
       "      <td> 398436</td>\n",
       "      <td> 476317</td>\n",
       "      <td> 602575</td>\n",
       "      <td> 11/20/2015</td>\n",
       "      <td> 318</td>\n",
       "      <td> 0</td>\n",
       "      <td>         OnCurb</td>\n",
       "      <td> Alive</td>\n",
       "      <td> Good</td>\n",
       "      <td>     Quercus palustris</td>\n",
       "      <td>...</td>\n",
       "      <td> 31</td>\n",
       "      <td> MN35</td>\n",
       "      <td>                        Washington Heights North</td>\n",
       "      <td> 1027500</td>\n",
       "      <td> New York</td>\n",
       "      <td> 40.850879</td>\n",
       "      <td>-73.943067</td>\n",
       "      <td> 1000000.7660</td>\n",
       "      <td> 249280.8739</td>\n",
       "      <td> 12.980056</td>\n",
       "    </tr>\n",
       "    <tr>\n",
       "      <th>340883</th>\n",
       "      <td> 340869</td>\n",
       "      <td> 409369</td>\n",
       "      <td> 410345</td>\n",
       "      <td> 10/31/2015</td>\n",
       "      <td> 298</td>\n",
       "      <td> 0</td>\n",
       "      <td>         OnCurb</td>\n",
       "      <td> Alive</td>\n",
       "      <td> Good</td>\n",
       "      <td>      Pyrus calleryana</td>\n",
       "      <td>...</td>\n",
       "      <td> 24</td>\n",
       "      <td> SI01</td>\n",
       "      <td>      Annadale-Huguenot-Prince's Bay-Eltingville</td>\n",
       "      <td> 5019800</td>\n",
       "      <td> New York</td>\n",
       "      <td> 40.518508</td>\n",
       "      <td>-74.212533</td>\n",
       "      <td>  925158.4387</td>\n",
       "      <td> 128254.7324</td>\n",
       "      <td> 30.912862</td>\n",
       "    </tr>\n",
       "    <tr>\n",
       "      <th>325744</th>\n",
       "      <td> 325738</td>\n",
       "      <td> 391542</td>\n",
       "      <td> 502971</td>\n",
       "      <td> 10/28/2015</td>\n",
       "      <td> 291</td>\n",
       "      <td> 0</td>\n",
       "      <td>         OnCurb</td>\n",
       "      <td> Alive</td>\n",
       "      <td> Fair</td>\n",
       "      <td>                Prunus</td>\n",
       "      <td>...</td>\n",
       "      <td> 32</td>\n",
       "      <td> BX14</td>\n",
       "      <td>                East Concourse-Concourse Village</td>\n",
       "      <td> 2014300</td>\n",
       "      <td> New York</td>\n",
       "      <td> 40.828114</td>\n",
       "      <td>-73.912674</td>\n",
       "      <td> 1008417.4160</td>\n",
       "      <td> 240993.5400</td>\n",
       "      <td> 11.818198</td>\n",
       "    </tr>\n",
       "  </tbody>\n",
       "</table>\n",
       "<p>5 rows × 42 columns</p>\n",
       "</div>"
      ],
      "text/plain": [
       "           FID  tree_id  block_id  created_at  tree_dbh  stump_diam  \\\n",
       "360739  360731   433258    507833  11/05/2015       450           0   \n",
       "348292  348289   418433    202962  11/03/2015       318           0   \n",
       "398444  398436   476317    602575  11/20/2015       318           0   \n",
       "340883  340869   409369    410345  10/31/2015       298           0   \n",
       "325744  325738   391542    502971  10/28/2015       291           0   \n",
       "\n",
       "              curb_loc status health              spc_latin  \\\n",
       "360739  OffsetFromCurb   Dead                                 \n",
       "348292          OnCurb  Alive   Good  Platanus x acerifolia   \n",
       "398444          OnCurb  Alive   Good      Quercus palustris   \n",
       "340883          OnCurb  Alive   Good       Pyrus calleryana   \n",
       "325744          OnCurb  Alive   Fair                 Prunus   \n",
       "\n",
       "                ...           st_senate   nta  \\\n",
       "360739          ...                  32  BX09   \n",
       "348292          ...                  18  BK83   \n",
       "398444          ...                  31  MN35   \n",
       "340883          ...                  24  SI01   \n",
       "325744          ...                  32  BX14   \n",
       "\n",
       "                                               nta_name  boro_ct     state  \\\n",
       "360739  Soundview-Castle Hill-Clason Point-Harding Park  2001600  New York   \n",
       "348292                          Cypress Hills-City Line  3118202  New York   \n",
       "398444                         Washington Heights North  1027500  New York   \n",
       "340883       Annadale-Huguenot-Prince's Bay-Eltingville  5019800  New York   \n",
       "325744                 East Concourse-Concourse Village  2014300  New York   \n",
       "\n",
       "         latitude  longitude          x_sp         y_sp dist_from_me  \n",
       "360739  40.821953 -73.857671  1023642.9150  238768.6665    14.466631  \n",
       "348292  40.688366 -73.869641  1020402.3110  190093.5752    11.730691  \n",
       "398444  40.850879 -73.943067  1000000.7660  249280.8739    12.980056  \n",
       "340883  40.518508 -74.212533   925158.4387  128254.7324    30.912862  \n",
       "325744  40.828114 -73.912674  1008417.4160  240993.5400    11.818198  \n",
       "\n",
       "[5 rows x 42 columns]"
      ]
     },
     "execution_count": 61,
     "metadata": {},
     "output_type": "execute_result"
    }
   ],
   "source": [
    "sorted_by_diameter.head()"
   ]
  },
  {
   "cell_type": "code",
   "execution_count": 70,
   "metadata": {
    "collapsed": true
   },
   "outputs": [],
   "source": [
    "small_living_trees = all_trees[(all_trees['tree_dbh'] <= 40) & (all_trees['status'] == 'Alive')]"
   ]
  },
  {
   "cell_type": "code",
   "execution_count": 74,
   "metadata": {
    "collapsed": false
   },
   "outputs": [
    {
     "data": {
      "image/png": "[encoded data removed]",
      "text/plain": [
       "<matplotlib.figure.Figure at 0x10c1a7910>"
      ]
     },
     "metadata": {},
     "output_type": "display_data"
    }
   ],
   "source": [
    "plot_hist_graph(small_trees, 'tree_dbh', 'Trees By Diameter')"
   ]
  },
  {
   "cell_type": "code",
   "execution_count": 87,
   "metadata": {
    "collapsed": false
   },
   "outputs": [],
   "source": [
    "def plot_bar_graph(df, column, title):\n",
    "    df[column].value_counts().plot(kind='bar', title=title)"
   ]
  },
  {
   "cell_type": "code",
   "execution_count": 89,
   "metadata": {
    "collapsed": false
   },
   "outputs": [
    {
     "data": {
      "image/png": "[encoded data removed]",
      "text/plain": [
       "<matplotlib.figure.Figure at 0x11de9f350>"
      ]
     },
     "metadata": {},
     "output_type": "display_data"
    }
   ],
   "source": [
    "plot_bar_graph(all_trees, 'health', 'Trees By Condition')"
   ]
  },
  {
   "cell_type": "markdown",
   "metadata": {},
   "source": [
    "The blank status probably indicates that the tree is dead or a stump. There is another field for stump status."
   ]
  },
  {
   "cell_type": "code",
   "execution_count": 93,
   "metadata": {
    "collapsed": false
   },
   "outputs": [
    {
     "data": {
      "image/png": "[encoded data removed]",
      "text/plain": [
       "<matplotlib.figure.Figure at 0x11e4c3890>"
      ]
     },
     "metadata": {},
     "output_type": "display_data"
    }
   ],
   "source": [
    "plot_bar_graph(all_trees, 'status', 'Trees By Status')"
   ]
  },
  {
   "cell_type": "markdown",
   "metadata": {},
   "source": [
    "A steward is a person who cares for a tree. Signs of stewardship include gates, signs, flowers, ivy, pruning etc"
   ]
  },
  {
   "cell_type": "code",
   "execution_count": 96,
   "metadata": {
    "collapsed": false
   },
   "outputs": [
    {
     "data": {
      "image/png": "[encoded data removed]",
      "text/plain": [
       "<matplotlib.figure.Figure at 0x11e1b0a10>"
      ]
     },
     "metadata": {},
     "output_type": "display_data"
    }
   ],
   "source": [
    "plot_bar_graph(all_trees, 'steward', 'Trees By Signs of Stewardship')"
   ]
  },
  {
   "cell_type": "code",
   "execution_count": 95,
   "metadata": {
    "collapsed": false
   },
   "outputs": [
    {
     "data": {
      "image/png": "[encoded data removed]",
      "text/plain": [
       "<matplotlib.figure.Figure at 0x11e4558d0>"
      ]
     },
     "metadata": {},
     "output_type": "display_data"
    }
   ],
   "source": [
    "fig = plt.figure(figsize=(20,20)) \n",
    "plot_bar_graph(all_trees, 'spc_latin', 'Trees By Species')"
   ]
  },
  {
   "cell_type": "code",
   "execution_count": null,
   "metadata": {
    "collapsed": true
   },
   "outputs": [],
   "source": []
  },
  {
   "cell_type": "code",
   "execution_count": 10,
   "metadata": {
    "collapsed": true
   },
   "outputs": [],
   "source": [
    "import math\n",
    "\n",
    "def distance(origin, destination):\n",
    "    lat1, lon1 = origin\n",
    "    lat2, lon2 = destination\n",
    "    radius = 6371 # km\n",
    "\n",
    "    dlat = math.radians(lat2-lat1)\n",
    "    dlon = math.radians(lon2-lon1)\n",
    "    a = math.sin(dlat/2) * math.sin(dlat/2) + math.cos(math.radians(lat1)) \\\n",
    "        * math.cos(math.radians(lat2)) * math.sin(dlon/2) * math.sin(dlon/2)\n",
    "    c = 2 * math.atan2(math.sqrt(a), math.sqrt(1-a))\n",
    "    d = radius * c\n",
    "\n",
    "    return d"
   ]
  },
  {
   "cell_type": "code",
   "execution_count": null,
   "metadata": {
    "collapsed": true
   },
   "outputs": [],
   "source": [
    "civic_hall_loc = (40.739944, -73.991055)"
   ]
  },
  {
   "cell_type": "code",
   "execution_count": 77,
   "metadata": {
    "collapsed": false
   },
   "outputs": [],
   "source": [
    "all_trees['dist_from_me'] = [distance((row['latitude'], row['longitude']), civic_hall_loc) \n",
    "                                 for index, row in all_trees.iterrows()]"
   ]
  },
  {
   "cell_type": "code",
   "execution_count": 78,
   "metadata": {
    "collapsed": true
   },
   "outputs": [],
   "source": [
    "sorted_by_distance = all_trees.sort_index(by=['dist_from_me'], ascending=True)"
   ]
  },
  {
   "cell_type": "code",
   "execution_count": 79,
   "metadata": {
    "collapsed": false
   },
   "outputs": [
    {
     "data": {
      "text/html": [
       "<div style=\"max-height:1000px;max-width:1500px;overflow:auto;\">\n",
       "<table border=\"1\" class=\"dataframe\">\n",
       "  <thead>\n",
       "    <tr style=\"text-align: right;\">\n",
       "      <th></th>\n",
       "      <th>FID</th>\n",
       "      <th>tree_id</th>\n",
       "      <th>block_id</th>\n",
       "      <th>created_at</th>\n",
       "      <th>tree_dbh</th>\n",
       "      <th>stump_diam</th>\n",
       "      <th>curb_loc</th>\n",
       "      <th>status</th>\n",
       "      <th>health</th>\n",
       "      <th>spc_latin</th>\n",
       "      <th>...</th>\n",
       "      <th>st_senate</th>\n",
       "      <th>nta</th>\n",
       "      <th>nta_name</th>\n",
       "      <th>boro_ct</th>\n",
       "      <th>state</th>\n",
       "      <th>latitude</th>\n",
       "      <th>longitude</th>\n",
       "      <th>x_sp</th>\n",
       "      <th>y_sp</th>\n",
       "      <th>dist_from_me</th>\n",
       "    </tr>\n",
       "  </thead>\n",
       "  <tbody>\n",
       "    <tr>\n",
       "      <th>23778</th>\n",
       "      <td> 23766</td>\n",
       "      <td> 27827</td>\n",
       "      <td> 104256</td>\n",
       "      <td> 06/21/2015</td>\n",
       "      <td>  4</td>\n",
       "      <td> 0</td>\n",
       "      <td> OnCurb</td>\n",
       "      <td> Alive</td>\n",
       "      <td> Good</td>\n",
       "      <td>                  Prunus virginiana</td>\n",
       "      <td>...</td>\n",
       "      <td> 28</td>\n",
       "      <td> MN13</td>\n",
       "      <td> Hudson Yards-Chelsea-Flatiron-Union Square</td>\n",
       "      <td> 1005200</td>\n",
       "      <td> New York</td>\n",
       "      <td> 40.738949</td>\n",
       "      <td>-73.991352</td>\n",
       "      <td> 986646.4696</td>\n",
       "      <td> 208495.6356</td>\n",
       "      <td> 0.113478</td>\n",
       "    </tr>\n",
       "    <tr>\n",
       "      <th>23779</th>\n",
       "      <td> 23767</td>\n",
       "      <td> 27828</td>\n",
       "      <td> 104256</td>\n",
       "      <td> 06/21/2015</td>\n",
       "      <td>  4</td>\n",
       "      <td> 0</td>\n",
       "      <td> OnCurb</td>\n",
       "      <td> Alive</td>\n",
       "      <td> Good</td>\n",
       "      <td>                  Prunus virginiana</td>\n",
       "      <td>...</td>\n",
       "      <td> 28</td>\n",
       "      <td> MN13</td>\n",
       "      <td> Hudson Yards-Chelsea-Flatiron-Union Square</td>\n",
       "      <td> 1005200</td>\n",
       "      <td> New York</td>\n",
       "      <td> 40.738892</td>\n",
       "      <td>-73.991391</td>\n",
       "      <td> 986635.6612</td>\n",
       "      <td> 208475.1070</td>\n",
       "      <td> 0.120328</td>\n",
       "    </tr>\n",
       "    <tr>\n",
       "      <th>23780</th>\n",
       "      <td> 23768</td>\n",
       "      <td> 27829</td>\n",
       "      <td> 104256</td>\n",
       "      <td> 06/21/2015</td>\n",
       "      <td>  4</td>\n",
       "      <td> 0</td>\n",
       "      <td> OnCurb</td>\n",
       "      <td> Alive</td>\n",
       "      <td> Good</td>\n",
       "      <td>                  Prunus virginiana</td>\n",
       "      <td>...</td>\n",
       "      <td> 28</td>\n",
       "      <td> MN13</td>\n",
       "      <td> Hudson Yards-Chelsea-Flatiron-Union Square</td>\n",
       "      <td> 1005200</td>\n",
       "      <td> New York</td>\n",
       "      <td> 40.738841</td>\n",
       "      <td>-73.991427</td>\n",
       "      <td> 986625.8775</td>\n",
       "      <td> 208456.5254</td>\n",
       "      <td> 0.126549</td>\n",
       "    </tr>\n",
       "    <tr>\n",
       "      <th>52666</th>\n",
       "      <td> 52634</td>\n",
       "      <td> 64479</td>\n",
       "      <td> 104316</td>\n",
       "      <td> 07/13/2015</td>\n",
       "      <td>  4</td>\n",
       "      <td> 0</td>\n",
       "      <td> OnCurb</td>\n",
       "      <td> Alive</td>\n",
       "      <td> Good</td>\n",
       "      <td>            Styphnolobium japonicum</td>\n",
       "      <td>...</td>\n",
       "      <td> 28</td>\n",
       "      <td> MN13</td>\n",
       "      <td> Hudson Yards-Chelsea-Flatiron-Union Square</td>\n",
       "      <td> 1005800</td>\n",
       "      <td> New York</td>\n",
       "      <td> 40.741102</td>\n",
       "      <td>-73.990768</td>\n",
       "      <td> 986808.3203</td>\n",
       "      <td> 209280.2652</td>\n",
       "      <td> 0.131037</td>\n",
       "    </tr>\n",
       "    <tr>\n",
       "      <th>26904</th>\n",
       "      <td> 26883</td>\n",
       "      <td> 31955</td>\n",
       "      <td> 104310</td>\n",
       "      <td> 06/24/2015</td>\n",
       "      <td> 11</td>\n",
       "      <td> 0</td>\n",
       "      <td> OnCurb</td>\n",
       "      <td> Alive</td>\n",
       "      <td> Good</td>\n",
       "      <td> Gleditsia triacanthos var. inermis</td>\n",
       "      <td>...</td>\n",
       "      <td> 28</td>\n",
       "      <td> MN13</td>\n",
       "      <td> Hudson Yards-Chelsea-Flatiron-Union Square</td>\n",
       "      <td> 1005600</td>\n",
       "      <td> New York</td>\n",
       "      <td> 40.740439</td>\n",
       "      <td>-73.989493</td>\n",
       "      <td> 987161.7114</td>\n",
       "      <td> 209038.8494</td>\n",
       "      <td> 0.142690</td>\n",
       "    </tr>\n",
       "  </tbody>\n",
       "</table>\n",
       "<p>5 rows × 42 columns</p>\n",
       "</div>"
      ],
      "text/plain": [
       "         FID  tree_id  block_id  created_at  tree_dbh  stump_diam curb_loc  \\\n",
       "23778  23766    27827    104256  06/21/2015         4           0   OnCurb   \n",
       "23779  23767    27828    104256  06/21/2015         4           0   OnCurb   \n",
       "23780  23768    27829    104256  06/21/2015         4           0   OnCurb   \n",
       "52666  52634    64479    104316  07/13/2015         4           0   OnCurb   \n",
       "26904  26883    31955    104310  06/24/2015        11           0   OnCurb   \n",
       "\n",
       "      status health                           spc_latin  \\\n",
       "23778  Alive   Good                   Prunus virginiana   \n",
       "23779  Alive   Good                   Prunus virginiana   \n",
       "23780  Alive   Good                   Prunus virginiana   \n",
       "52666  Alive   Good             Styphnolobium japonicum   \n",
       "26904  Alive   Good  Gleditsia triacanthos var. inermis   \n",
       "\n",
       "                      ...                 st_senate   nta  \\\n",
       "23778                 ...                        28  MN13   \n",
       "23779                 ...                        28  MN13   \n",
       "23780                 ...                        28  MN13   \n",
       "52666                 ...                        28  MN13   \n",
       "26904                 ...                        28  MN13   \n",
       "\n",
       "                                         nta_name  boro_ct     state  \\\n",
       "23778  Hudson Yards-Chelsea-Flatiron-Union Square  1005200  New York   \n",
       "23779  Hudson Yards-Chelsea-Flatiron-Union Square  1005200  New York   \n",
       "23780  Hudson Yards-Chelsea-Flatiron-Union Square  1005200  New York   \n",
       "52666  Hudson Yards-Chelsea-Flatiron-Union Square  1005800  New York   \n",
       "26904  Hudson Yards-Chelsea-Flatiron-Union Square  1005600  New York   \n",
       "\n",
       "        latitude  longitude         x_sp         y_sp dist_from_me  \n",
       "23778  40.738949 -73.991352  986646.4696  208495.6356     0.113478  \n",
       "23779  40.738892 -73.991391  986635.6612  208475.1070     0.120328  \n",
       "23780  40.738841 -73.991427  986625.8775  208456.5254     0.126549  \n",
       "52666  40.741102 -73.990768  986808.3203  209280.2652     0.131037  \n",
       "26904  40.740439 -73.989493  987161.7114  209038.8494     0.142690  \n",
       "\n",
       "[5 rows x 42 columns]"
      ]
     },
     "execution_count": 79,
     "metadata": {},
     "output_type": "execute_result"
    }
   ],
   "source": [
    "sorted_by_distance.head()"
   ]
  },
  {
   "cell_type": "code",
   "execution_count": 82,
   "metadata": {
    "collapsed": false
   },
   "outputs": [],
   "source": [
    "in_need_near_me = sorted_by_distance[(sorted_by_distance['status'] == 'Alive') & \n",
    "                                     (sorted_by_distance['steward'] != 'None') &\n",
    "                                     (sorted_by_distance['health'] != 'Good')]"
   ]
  },
  {
   "cell_type": "code",
   "execution_count": 83,
   "metadata": {
    "collapsed": false
   },
   "outputs": [
    {
     "data": {
      "text/html": [
       "<div style=\"max-height:1000px;max-width:1500px;overflow:auto;\">\n",
       "<table border=\"1\" class=\"dataframe\">\n",
       "  <thead>\n",
       "    <tr style=\"text-align: right;\">\n",
       "      <th></th>\n",
       "      <th>FID</th>\n",
       "      <th>tree_id</th>\n",
       "      <th>block_id</th>\n",
       "      <th>created_at</th>\n",
       "      <th>tree_dbh</th>\n",
       "      <th>stump_diam</th>\n",
       "      <th>curb_loc</th>\n",
       "      <th>status</th>\n",
       "      <th>health</th>\n",
       "      <th>spc_latin</th>\n",
       "      <th>...</th>\n",
       "      <th>st_senate</th>\n",
       "      <th>nta</th>\n",
       "      <th>nta_name</th>\n",
       "      <th>boro_ct</th>\n",
       "      <th>state</th>\n",
       "      <th>latitude</th>\n",
       "      <th>longitude</th>\n",
       "      <th>x_sp</th>\n",
       "      <th>y_sp</th>\n",
       "      <th>dist_from_me</th>\n",
       "    </tr>\n",
       "  </thead>\n",
       "  <tbody>\n",
       "    <tr>\n",
       "      <th>373838</th>\n",
       "      <td> 373824</td>\n",
       "      <td> 448410</td>\n",
       "      <td> 104298</td>\n",
       "      <td> 11/11/2015</td>\n",
       "      <td> 12</td>\n",
       "      <td> 0</td>\n",
       "      <td> OnCurb</td>\n",
       "      <td> Alive</td>\n",
       "      <td> Fair</td>\n",
       "      <td>      Pyrus calleryana</td>\n",
       "      <td>...</td>\n",
       "      <td> 28</td>\n",
       "      <td> MN13</td>\n",
       "      <td> Hudson Yards-Chelsea-Flatiron-Union Square</td>\n",
       "      <td> 1005600</td>\n",
       "      <td> New York</td>\n",
       "      <td> 40.740365</td>\n",
       "      <td>-73.988725</td>\n",
       "      <td> 987374.3435</td>\n",
       "      <td> 209011.6394</td>\n",
       "      <td> 0.201768</td>\n",
       "    </tr>\n",
       "    <tr>\n",
       "      <th>26976 </th>\n",
       "      <td>  26954</td>\n",
       "      <td>  32031</td>\n",
       "      <td> 104269</td>\n",
       "      <td> 06/24/2015</td>\n",
       "      <td>  1</td>\n",
       "      <td> 0</td>\n",
       "      <td> OnCurb</td>\n",
       "      <td> Alive</td>\n",
       "      <td> Poor</td>\n",
       "      <td>         Tilia cordata</td>\n",
       "      <td>...</td>\n",
       "      <td> 28</td>\n",
       "      <td> MN13</td>\n",
       "      <td> Hudson Yards-Chelsea-Flatiron-Union Square</td>\n",
       "      <td> 1005200</td>\n",
       "      <td> New York</td>\n",
       "      <td> 40.738854</td>\n",
       "      <td>-73.988870</td>\n",
       "      <td> 987334.3600</td>\n",
       "      <td> 208461.3079</td>\n",
       "      <td> 0.220399</td>\n",
       "    </tr>\n",
       "    <tr>\n",
       "      <th>62133 </th>\n",
       "      <td>  62105</td>\n",
       "      <td>  75650</td>\n",
       "      <td> 104351</td>\n",
       "      <td> 07/18/2015</td>\n",
       "      <td> 10</td>\n",
       "      <td> 0</td>\n",
       "      <td> OnCurb</td>\n",
       "      <td> Alive</td>\n",
       "      <td> Fair</td>\n",
       "      <td> Platanus x acerifolia</td>\n",
       "      <td>...</td>\n",
       "      <td> 28</td>\n",
       "      <td> MN13</td>\n",
       "      <td> Hudson Yards-Chelsea-Flatiron-Union Square</td>\n",
       "      <td> 1005800</td>\n",
       "      <td> New York</td>\n",
       "      <td> 40.742054</td>\n",
       "      <td>-73.990586</td>\n",
       "      <td> 986858.5692</td>\n",
       "      <td> 209626.9250</td>\n",
       "      <td> 0.237884</td>\n",
       "    </tr>\n",
       "    <tr>\n",
       "      <th>27015 </th>\n",
       "      <td>  26992</td>\n",
       "      <td>  32069</td>\n",
       "      <td> 104267</td>\n",
       "      <td> 06/24/2015</td>\n",
       "      <td>  4</td>\n",
       "      <td> 0</td>\n",
       "      <td> OnCurb</td>\n",
       "      <td> Alive</td>\n",
       "      <td> Fair</td>\n",
       "      <td>      Pyrus calleryana</td>\n",
       "      <td>...</td>\n",
       "      <td> 28</td>\n",
       "      <td> MN13</td>\n",
       "      <td> Hudson Yards-Chelsea-Flatiron-Union Square</td>\n",
       "      <td> 1005200</td>\n",
       "      <td> New York</td>\n",
       "      <td> 40.739232</td>\n",
       "      <td>-73.988229</td>\n",
       "      <td> 987511.9246</td>\n",
       "      <td> 208599.0271</td>\n",
       "      <td> 0.250898</td>\n",
       "    </tr>\n",
       "    <tr>\n",
       "      <th>52727 </th>\n",
       "      <td>  52695</td>\n",
       "      <td>  64545</td>\n",
       "      <td> 104337</td>\n",
       "      <td> 07/13/2015</td>\n",
       "      <td>  4</td>\n",
       "      <td> 0</td>\n",
       "      <td> OnCurb</td>\n",
       "      <td> Alive</td>\n",
       "      <td> Poor</td>\n",
       "      <td>         Tilia cordata</td>\n",
       "      <td>...</td>\n",
       "      <td> 28</td>\n",
       "      <td> MN13</td>\n",
       "      <td> Hudson Yards-Chelsea-Flatiron-Union Square</td>\n",
       "      <td> 1005800</td>\n",
       "      <td> New York</td>\n",
       "      <td> 40.742294</td>\n",
       "      <td>-73.991601</td>\n",
       "      <td> 986577.4130</td>\n",
       "      <td> 209714.4563</td>\n",
       "      <td> 0.265326</td>\n",
       "    </tr>\n",
       "  </tbody>\n",
       "</table>\n",
       "<p>5 rows × 42 columns</p>\n",
       "</div>"
      ],
      "text/plain": [
       "           FID  tree_id  block_id  created_at  tree_dbh  stump_diam curb_loc  \\\n",
       "373838  373824   448410    104298  11/11/2015        12           0   OnCurb   \n",
       "26976    26954    32031    104269  06/24/2015         1           0   OnCurb   \n",
       "62133    62105    75650    104351  07/18/2015        10           0   OnCurb   \n",
       "27015    26992    32069    104267  06/24/2015         4           0   OnCurb   \n",
       "52727    52695    64545    104337  07/13/2015         4           0   OnCurb   \n",
       "\n",
       "       status health              spc_latin          ...           st_senate  \\\n",
       "373838  Alive   Fair       Pyrus calleryana          ...                  28   \n",
       "26976   Alive   Poor          Tilia cordata          ...                  28   \n",
       "62133   Alive   Fair  Platanus x acerifolia          ...                  28   \n",
       "27015   Alive   Fair       Pyrus calleryana          ...                  28   \n",
       "52727   Alive   Poor          Tilia cordata          ...                  28   \n",
       "\n",
       "         nta                                    nta_name  boro_ct     state  \\\n",
       "373838  MN13  Hudson Yards-Chelsea-Flatiron-Union Square  1005600  New York   \n",
       "26976   MN13  Hudson Yards-Chelsea-Flatiron-Union Square  1005200  New York   \n",
       "62133   MN13  Hudson Yards-Chelsea-Flatiron-Union Square  1005800  New York   \n",
       "27015   MN13  Hudson Yards-Chelsea-Flatiron-Union Square  1005200  New York   \n",
       "52727   MN13  Hudson Yards-Chelsea-Flatiron-Union Square  1005800  New York   \n",
       "\n",
       "         latitude  longitude         x_sp         y_sp dist_from_me  \n",
       "373838  40.740365 -73.988725  987374.3435  209011.6394     0.201768  \n",
       "26976   40.738854 -73.988870  987334.3600  208461.3079     0.220399  \n",
       "62133   40.742054 -73.990586  986858.5692  209626.9250     0.237884  \n",
       "27015   40.739232 -73.988229  987511.9246  208599.0271     0.250898  \n",
       "52727   40.742294 -73.991601  986577.4130  209714.4563     0.265326  \n",
       "\n",
       "[5 rows x 42 columns]"
      ]
     },
     "execution_count": 83,
     "metadata": {},
     "output_type": "execute_result"
    }
   ],
   "source": [
    "in_need_near_me.head()"
   ]
  },
  {
   "cell_type": "code",
   "execution_count": 84,
   "metadata": {
    "collapsed": false
   },
   "outputs": [],
   "source": [
    "in_need_near_me.to_csv('needy_trees.csv')"
   ]
  },
  {
   "cell_type": "code",
   "execution_count": null,
   "metadata": {
    "collapsed": true
   },
   "outputs": [],
   "source": []
  }
 ],
 "metadata": {
  "kernelspec": {
   "display_name": "Python 2",
   "language": "python",
   "name": "python2"
  },
  "language_info": {
   "codemirror_mode": {
    "name": "ipython",
    "version": 2
   },
   "file_extension": ".py",
   "mimetype": "text/x-python",
   "name": "python",
   "nbconvert_exporter": "python",
   "pygments_lexer": "ipython2",
   "version": "2.7.11"
  }
 },
 "nbformat": 4,
 "nbformat_minor": 0
}
